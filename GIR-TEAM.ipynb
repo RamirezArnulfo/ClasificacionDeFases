{
 "cells": [
  {
   "cell_type": "markdown",
   "id": "aa7a284c-bf20-4a7a-832a-b2ec8f14c4b3",
   "metadata": {},
   "source": [
    "Importación de librerías"
   ]
  },
  {
   "cell_type": "code",
   "execution_count": null,
   "id": "c170a217-a0bf-44aa-80ca-8f927ae162f7",
   "metadata": {},
   "outputs": [],
   "source": [
    "import pandas as pd\n",
    "import numpy as np\n",
    "\n",
    "from sklearn import preprocessing\n",
    "from sklearn.model_selection import train_test_split\n",
    "from sklearn.preprocessing import LabelEncoder\n",
    "from sklearn.experimental import enable_iterative_imputer\n",
    "from sklearn.impute import IterativeImputer\n",
    "from sklearn.ensemble import ExtraTreesRegressor\n",
    "from xgboost import XGBClassifier\n",
    "\n",
    "import pywt\n",
    "import pickle\n",
    "# import missingno as mno\n",
    "import precond\n",
    "import wavelet_transform\n",
    "import feature_augmentation\n",
    "import validation\n",
    "import imputation\n",
    "\n",
    "from datetime import datetime\n",
    "start_time = datetime.now()"
   ]
  },
  {
   "cell_type": "markdown",
   "id": "82230a62-f90e-406b-b4de-ebed0118f5ec",
   "metadata": {},
   "source": [
    "Importación del dataset"
   ]
  },
  {
   "cell_type": "code",
   "execution_count": null,
   "id": "42be64d7-4ecb-44b2-a328-b693eb0f81b1",
   "metadata": {},
   "outputs": [],
   "source": [
    "# DATASET IMPORTATION\n",
    "train = pd.read_csv('train.csv', sep=';')\n",
    "train_bkp = train.copy()"
   ]
  },
  {
   "cell_type": "markdown",
   "id": "cb3ef788-1d8f-4a0a-a8e6-bbbd3fd3946a",
   "metadata": {},
   "source": [
    "Representación de valores faltantes (opcional)"
   ]
  },
  {
   "cell_type": "code",
   "execution_count": null,
   "id": "2a05b7cd-3f6d-419b-a207-3c6bf6776be3",
   "metadata": {},
   "outputs": [],
   "source": [
    "mno.matrix(train, figsize = (20, 6))"
   ]
  },
  {
   "cell_type": "markdown",
   "id": "c401ad9f-9a0b-44a4-9ee2-711365f5bdbb",
   "metadata": {},
   "source": [
    "Estadistica Descriptivas"
   ]
  },
  {
   "cell_type": "code",
   "execution_count": null,
   "id": "fe0d62c2-ae09-49f2-85ee-1099142f5eaf",
   "metadata": {},
   "outputs": [],
   "source": [
    "train_stats = train.describe()"
   ]
  },
  {
   "cell_type": "markdown",
   "id": "a39ecbd7-44d8-4b79-a4d2-f87744af74e1",
   "metadata": {},
   "source": [
    "Preprocesamiento (opcional)"
   ]
  },
  {
   "cell_type": "code",
   "execution_count": null,
   "id": "4f2d8878-458e-43eb-b072-bbc33f7aba66",
   "metadata": {},
   "outputs": [],
   "source": [
    "train = precond.precond_train(train)"
   ]
  },
  {
   "cell_type": "markdown",
   "id": "2be561c1-442d-493c-9a2e-7a336ac1fbef",
   "metadata": {},
   "source": [
    "Codificación de etiquetas (opcional)"
   ]
  },
  {
   "cell_type": "code",
   "execution_count": null,
   "id": "d8ea3218-a804-4b51-aef6-cda33970de32",
   "metadata": {},
   "outputs": [],
   "source": [
    "le = LabelEncoder()\n",
    "le.fit(train['GROUP'])\n",
    "train['GROUP'] = le.transform(train['GROUP'])\n",
    "\n",
    "save label encoder model\n",
    "pickle.dump(le, open('labelencoder.pkl', 'wb'))"
   ]
  },
  {
   "cell_type": "markdown",
   "id": "0645cc34-f7e5-4296-8e09-744cc61b4d64",
   "metadata": {},
   "source": [
    "Eliminación de columnas no deseadas"
   ]
  },
  {
   "cell_type": "code",
   "execution_count": null,
   "id": "b6cee8e4-2bef-4c03-8aa5-764a88b7a759",
   "metadata": {},
   "outputs": [],
   "source": [
    "train_imp = train.drop(['WELL','FORCE_2020_LITHOFACIES_LITHOLOGY','FORCE_2020_LITHOFACIES_CONFIDENCE'], axis=1)"
   ]
  },
  {
   "cell_type": "markdown",
   "id": "2c66bd27-f6ce-4261-9ce2-834f65762fdb",
   "metadata": {},
   "source": [
    "Imputación de valores faltantes (opcional)"
   ]
  },
  {
   "cell_type": "code",
   "execution_count": null,
   "id": "f37e7566-c422-4aa3-824d-f36e296f8d42",
   "metadata": {},
   "outputs": [],
   "source": [
    "train_imp, model_imp_list = imputation.imputer_train(train_imp, \"train_imp.csv\")"
   ]
  },
  {
   "cell_type": "markdown",
   "id": "2b085ad3-5b2c-4265-87d5-8005d5012785",
   "metadata": {},
   "source": [
    "Agregar columna 'WELL' de vuelta al DataFrame"
   ]
  },
  {
   "cell_type": "code",
   "execution_count": null,
   "id": "d9c9d88b-a111-45df-902b-5f2aab80bfd4",
   "metadata": {},
   "outputs": [],
   "source": [
    "train_imp['WELL'] = train['WELL']"
   ]
  },
  {
   "cell_type": "markdown",
   "id": "7594858f-3286-402b-90f1-76f66115630d",
   "metadata": {},
   "source": [
    "Selección de características"
   ]
  },
  {
   "cell_type": "code",
   "execution_count": null,
   "id": "33611990-0a10-4da9-af63-b2070b782e17",
   "metadata": {},
   "outputs": [],
   "source": [
    "features = ['WELL','X_LOC','Y_LOC','Z_LOC','RDEP','GROUP','CALI','GR','RHOB','NPHI','PEF','DTC','SP','DRHO']\n",
    "\n",
    "# train_imp = train_imp[features]"
   ]
  },
  {
   "cell_type": "markdown",
   "id": "1cea2ed4-a797-4d01-8e05-def9620f23b1",
   "metadata": {},
   "source": [
    "Agregar columna de facies de vuelta al DataFrame"
   ]
  },
  {
   "cell_type": "code",
   "execution_count": null,
   "id": "dc7371b6-d8e8-42d0-bc19-afac1e487c8f",
   "metadata": {},
   "outputs": [],
   "source": [
    "train_imp['FORCE_2020_LITHOFACIES_LITHOLOGY'] = train['FORCE_2020_LITHOFACIES_LITHOLOGY']"
   ]
  },
  {
   "cell_type": "markdown",
   "id": "d0256852-28ca-4c9a-9cc7-e4adbd14045b",
   "metadata": {},
   "source": [
    "Transformación Wavelet (opcional)"
   ]
  },
  {
   "cell_type": "code",
   "execution_count": null,
   "id": "13272c14-07bd-405f-9a08-4056b13e5d1e",
   "metadata": {},
   "outputs": [],
   "source": [
    "train_imp = wavelet_transform.wavelet_transform(train_imp)"
   ]
  },
  {
   "cell_type": "markdown",
   "id": "3127f512-3b2a-46d2-a9da-3f3a46d3764f",
   "metadata": {},
   "source": [
    "Eliminación del efecto de hombro (opcional)"
   ]
  },
  {
   "cell_type": "code",
   "execution_count": null,
   "id": "5ef362ed-12ed-4b15-ba13-881a8b135da4",
   "metadata": {},
   "outputs": [],
   "source": [
    "train_imp.loc[train_imp['FORCE_2020_LITHOFACIES_LITHOLOGY'].shift(-1) != train_imp['FORCE_2020_LITHOFACIES_LITHOLOGY'].shift(1), 'FORCE_2020_LITHOFACIES_LITHOLOGY'] = np.nan\n",
    "train_imp.dropna(subset=['FORCE_2020_LITHOFACIES_LITHOLOGY'], axis=0, inplace=True)"
   ]
  },
  {
   "cell_type": "markdown",
   "id": "93a92eeb-52af-400d-9097-d2cf606c1c01",
   "metadata": {},
   "source": [
    "Aumento de características (opcional)"
   ]
  },
  {
   "cell_type": "code",
   "execution_count": null,
   "id": "1c51d38b-1e9f-4c67-b02d-238ed2ba5e17",
   "metadata": {},
   "outputs": [],
   "source": [
    "train_imp_aug = train_imp.drop(['WELL','FORCE_2020_LITHOFACIES_LITHOLOGY'], axis=1)\n",
    "train_imp_aug = feature_augmentation.feat_aug(train_imp_aug, train_imp['WELL'], train_imp['Z_LOC'])\n",
    "train_imp_aug = feature_augmentation.poly_feat(train_imp_aug)"
   ]
  },
  {
   "cell_type": "markdown",
   "id": "ee3dc625-6feb-4643-8f06-a390bce6f76c",
   "metadata": {},
   "source": [
    "División de datos en entrenamiento y prueba"
   ]
  },
  {
   "cell_type": "code",
   "execution_count": null,
   "id": "d93560f1-502b-493b-8e62-3e4f9ed6d75c",
   "metadata": {},
   "outputs": [],
   "source": [
    "X = train_imp_aug\n",
    "y = train_imp['FORCE_2020_LITHOFACIES_LITHOLOGY']\n",
    "\n",
    "TRAIN AND TEST SPLIT\n",
    "X_train, X_test, y_train, y_test = train_test_split(X, y, stratify = y, test_size=0.2, random_state=0)"
   ]
  },
  {
   "cell_type": "markdown",
   "id": "590317c1-716d-43e8-9b6c-91e5c530f371",
   "metadata": {},
   "source": [
    "Selección y entrenamiento del modelo"
   ]
  },
  {
   "cell_type": "code",
   "execution_count": null,
   "id": "eae5bd43-c703-4a06-a9e8-7eda9342c090",
   "metadata": {},
   "outputs": [],
   "source": [
    "model = XGBClassifier(max_depth=3,\n",
    "                      learning_rate=0.1,\n",
    "                      n_estimators=300,\n",
    "                      random_state=0)\n",
    "model.fit(X_train, y_train)\n",
    "print(\"Model trained\")"
   ]
  },
  {
   "cell_type": "markdown",
   "id": "1fcd8ce5-69b0-44a9-adfa-46b2727c011d",
   "metadata": {},
   "source": [
    "Validación del modelo"
   ]
  },
  {
   "cell_type": "code",
   "execution_count": null,
   "id": "d5506cdc-86f1-4f9a-a37d-b534ebc7ebdf",
   "metadata": {},
   "outputs": [],
   "source": [
    "accuracy_split_test, pen_rel_split_test = validation.validation(X_test, y_test, train_imp, model, 'penalty_matrix.npy')"
   ]
  },
  {
   "cell_type": "markdown",
   "id": "d78baaaa-61bd-4385-b714-1b33857078a8",
   "metadata": {},
   "source": [
    "Guardar el modelo preentrenado"
   ]
  },
  {
   "cell_type": "code",
   "execution_count": null,
   "id": "481fe210-b9b2-4cbf-882e-189c60eca83e",
   "metadata": {},
   "outputs": [],
   "source": [
    "pickle.dump(model, open('model.pkl', 'wb'))"
   ]
  },
  {
   "cell_type": "markdown",
   "id": "15752a18-32cb-4151-a37e-3ace1981c3ab",
   "metadata": {},
   "source": [
    "Importación de datos de prueba"
   ]
  },
  {
   "cell_type": "code",
   "execution_count": null,
   "id": "29f2ce54-8ab4-40b0-ab3a-9fdf6da8802e",
   "metadata": {},
   "outputs": [],
   "source": [
    "test = pd.read_csv('test.csv', sep=';')     # put here the closed dataset for prediction\n",
    "test_bkp = test.copy()"
   ]
  },
  {
   "cell_type": "markdown",
   "id": "8d4c967c-41cd-4f0a-b169-b3c1eaebcffb",
   "metadata": {},
   "source": [
    "Preprocesamiento de datos de prueba"
   ]
  },
  {
   "cell_type": "code",
   "execution_count": null,
   "id": "592546c5-c63e-4a39-abf2-30c45599c0d5",
   "metadata": {},
   "outputs": [],
   "source": [
    "test = precond.precond_test(test)"
   ]
  },
  {
   "cell_type": "markdown",
   "id": "811a6a96-a347-4de3-bb49-9199fd3e9a63",
   "metadata": {},
   "source": [
    "Codificación de etiquetas en datos de prueba"
   ]
  },
  {
   "cell_type": "code",
   "execution_count": null,
   "id": "4596cc5c-bf46-4be9-9a7d-4b1292ed69e1",
   "metadata": {},
   "outputs": [],
   "source": [
    "le = pickle.load(open('labelencoder.pkl', 'rb'))\n",
    "test['GROUP'] = le.transform(test['GROUP'])"
   ]
  },
  {
   "cell_type": "markdown",
   "id": "893ebc6e-3fd6-4f77-991c-92cd49a59a4d",
   "metadata": {},
   "source": [
    "Eliminación de columnas no deseadas en datos de prueba"
   ]
  },
  {
   "cell_type": "code",
   "execution_count": null,
   "id": "e81ce741-477c-4d17-ae6d-ea2002333d13",
   "metadata": {},
   "outputs": [],
   "source": [
    "test_imp = test.drop(['WELL'], axis=1)"
   ]
  },
  {
   "cell_type": "markdown",
   "id": "9b7770b9-6e28-4636-8777-295a9f89e5b7",
   "metadata": {},
   "source": [
    "Imputación de valores faltantes en datos de prueba"
   ]
  },
  {
   "cell_type": "code",
   "execution_count": null,
   "id": "0719f328-976f-4b48-a5e8-4a6dc330c802",
   "metadata": {},
   "outputs": [],
   "source": [
    "train_imp_csv = pd.read_csv('train_imp.csv', sep=';')\n",
    "test_imp = imputation.imputer_test(test_imp, train_imp_csv)"
   ]
  },
  {
   "cell_type": "markdown",
   "id": "f8eccf77-7449-41c5-893e-1393947d8e8d",
   "metadata": {},
   "source": [
    "Agregar columna 'WELL' de vuelta al DataFrame de prueba"
   ]
  },
  {
   "cell_type": "code",
   "execution_count": null,
   "id": "ee6a6dec-70af-4c52-8a34-42506072dfc9",
   "metadata": {},
   "outputs": [],
   "source": [
    "test_imp['WELL'] = test['WELL']"
   ]
  },
  {
   "cell_type": "markdown",
   "id": "04cb8752-74ac-45b9-9d1f-827a0fc52528",
   "metadata": {},
   "source": [
    "Selección de características en datos de prueba"
   ]
  },
  {
   "cell_type": "code",
   "execution_count": null,
   "id": "148210f6-1df6-496e-98ff-9e5dc41e8ca7",
   "metadata": {},
   "outputs": [],
   "source": [
    "test_imp = test_imp[features]"
   ]
  },
  {
   "cell_type": "markdown",
   "id": "be2f0abf-2db8-4065-beef-204b0964d9ca",
   "metadata": {},
   "source": [
    "Transformación Wavelet en datos de prueba (opcional)"
   ]
  },
  {
   "cell_type": "code",
   "execution_count": null,
   "id": "fe93b1d7-171f-4b50-bdcd-281014d7b27b",
   "metadata": {},
   "outputs": [],
   "source": [
    "test_imp = wavelet_transform.wavelet_transform(test_imp)"
   ]
  },
  {
   "cell_type": "markdown",
   "id": "4f3b6fb4-6686-4be8-8460-e417e0ce7212",
   "metadata": {},
   "source": [
    "Aumento de características en datos de prueba (opcional)"
   ]
  },
  {
   "cell_type": "code",
   "execution_count": null,
   "id": "c48100a3-b32d-47e4-9934-d811fdf8212c",
   "metadata": {},
   "outputs": [],
   "source": [
    "test_imp_aug = test_imp.drop(['WELL'], axis=1)\n",
    "test_imp_aug = feature_augmentation.feat_aug(test_imp_aug, test_imp['WELL'], test_imp['Z_LOC'])\n",
    "test_imp_aug = feature_augmentation.poly_feat(test_imp_aug)"
   ]
  },
  {
   "cell_type": "markdown",
   "id": "a2622f91-c94c-4c50-941f-b8b156b65eab",
   "metadata": {},
   "source": [
    "Predicción en datos de prueba"
   ]
  },
  {
   "cell_type": "code",
   "execution_count": null,
   "id": "c3df89c9-e4d2-442f-b543-418de2140f78",
   "metadata": {},
   "outputs": [],
   "source": [
    "model = pickle.load(open('model.pkl', 'rb'))\n",
    "\n",
    "prediction = model.predict(test_imp_aug)"
   ]
  },
  {
   "cell_type": "markdown",
   "id": "5e477efa-83e8-445a-83d0-13b8904c1105",
   "metadata": {},
   "source": [
    "Refinamiento de la predicción de facies"
   ]
  },
  {
   "cell_type": "code",
   "execution_count": null,
   "id": "2296dee8-7ed7-4c09-be69-e74b4c53d184",
   "metadata": {},
   "outputs": [],
   "source": [
    "test['PREDICTION'] = prediction\n",
    "test.loc[test['PREDICTION'].shift(-2) == test['PREDICTION'].shift(1), 'PREDICTION'] = test['PREDICTION'].shift(-2)\n",
    "test.loc[test['PREDICTION'].shift(-1) == test['PREDICTION'].shift(1), 'PREDICTION'] = test['PREDICTION'].shift(-1)\n",
    "test['PREDICTION'].iloc[-1] = prediction[-1]"
   ]
  },
  {
   "cell_type": "markdown",
   "id": "215ea41c-d1ca-4ca7-92c6-9848a12a154f",
   "metadata": {},
   "source": [
    "Guardar la predicción en un archivo CSV"
   ]
  },
  {
   "cell_type": "code",
   "execution_count": null,
   "id": "e7be296d-0d54-4b8e-8419-4dfd967ceed2",
   "metadata": {},
   "outputs": [],
   "source": [
    "test_prediction_for_submission = test['PREDICTION'].values\n",
    "np.savetxt('GIR_TEAM_final_submission.csv', test_prediction_for_submission, header='lithology', comments='', fmt='%i')"
   ]
  },
  {
   "cell_type": "markdown",
   "id": "3ae9a1d9-12a8-4d75-938b-c6bdc5018e00",
   "metadata": {},
   "source": [
    "Tiempo de ejecución"
   ]
  },
  {
   "cell_type": "code",
   "execution_count": null,
   "id": "ddc35d12-6316-4d42-92ad-02fdb73d2072",
   "metadata": {},
   "outputs": [],
   "source": [
    "end_time = datetime.now()\n",
    "print('Duration: {}'.format(end_time - start_time))"
   ]
  }
 ],
 "metadata": {
  "kernelspec": {
   "display_name": "Python 3 (ipykernel)",
   "language": "python",
   "name": "python3"
  },
  "language_info": {
   "codemirror_mode": {
    "name": "ipython",
    "version": 3
   },
   "file_extension": ".py",
   "mimetype": "text/x-python",
   "name": "python",
   "nbconvert_exporter": "python",
   "pygments_lexer": "ipython3",
   "version": "3.9.18"
  }
 },
 "nbformat": 4,
 "nbformat_minor": 5
}
